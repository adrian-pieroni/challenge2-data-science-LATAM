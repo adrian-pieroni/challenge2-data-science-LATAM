{
  "nbformat": 4,
  "nbformat_minor": 0,
  "metadata": {
    "colab": {
      "provenance": [],
      "authorship_tag": "ABX9TyMvQK2y/KBUjeroUyt1CfOl",
      "include_colab_link": true
    },
    "kernelspec": {
      "name": "python3",
      "display_name": "Python 3"
    },
    "language_info": {
      "name": "python"
    }
  },
  "cells": [
    {
      "cell_type": "markdown",
      "metadata": {
        "id": "view-in-github",
        "colab_type": "text"
      },
      "source": [
        "<a href=\"https://colab.research.google.com/github/adrian-pieroni/challenge2-data-science-LATAM/blob/main/challenge2_data_science_LATAM.ipynb\" target=\"_parent\"><img src=\"https://colab.research.google.com/assets/colab-badge.svg\" alt=\"Open In Colab\"/></a>"
      ]
    },
    {
      "cell_type": "markdown",
      "source": [
        "#📌 Extracción\n",
        "\n",
        "\n"
      ],
      "metadata": {
        "id": "Baii7z-xOHxI"
      }
    },
    {
      "cell_type": "code",
      "source": [],
      "metadata": {
        "id": "uCBczoILOw40"
      },
      "execution_count": null,
      "outputs": []
    },
    {
      "cell_type": "markdown",
      "source": [
        "#🔧 Transformación\n",
        "\n"
      ],
      "metadata": {
        "id": "dZn7E3JjOQip"
      }
    },
    {
      "cell_type": "code",
      "source": [],
      "metadata": {
        "id": "lhI55Sf7Ox-m"
      },
      "execution_count": null,
      "outputs": []
    },
    {
      "cell_type": "markdown",
      "source": [
        "#📊 Carga y análisis\n",
        "\n"
      ],
      "metadata": {
        "id": "wqWF_CCdOcZB"
      }
    },
    {
      "cell_type": "code",
      "source": [],
      "metadata": {
        "id": "mIdGrIjGOysm"
      },
      "execution_count": null,
      "outputs": []
    },
    {
      "cell_type": "markdown",
      "source": [
        "#📄Informe final\n",
        "\n"
      ],
      "metadata": {
        "id": "UXf32L-2OmU8"
      }
    },
    {
      "cell_type": "code",
      "source": [],
      "metadata": {
        "id": "_vze_ksuOzgG"
      },
      "execution_count": null,
      "outputs": []
    }
  ]
}